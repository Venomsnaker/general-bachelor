{
 "cells": [
  {
   "cell_type": "code",
   "execution_count": 1,
   "metadata": {},
   "outputs": [],
   "source": [
    "import numpy as np\n",
    "import pandas as pd"
   ]
  },
  {
   "cell_type": "code",
   "execution_count": 8,
   "metadata": {},
   "outputs": [
    {
     "name": "stdout",
     "output_type": "stream",
     "text": [
      "[[ 2  2  1]\n",
      " [ 2  6  3]\n",
      " [ 2  3 -5]]\n",
      " \n",
      "[[ 3  1  2]\n",
      " [-1  2  4]\n",
      " [ 2  6  3]]\n"
     ]
    }
   ],
   "source": [
    "A = np.array([[2,2,1],[2,6,3],[2,3,-5]])\n",
    "B = np.array([[3,1,2],[-1,2,4],[2,6,3]])\n",
    "print(A, end=\"\\n \\n\")\n",
    "print(B)"
   ]
  },
  {
   "cell_type": "code",
   "execution_count": 13,
   "metadata": {},
   "outputs": [
    {
     "name": "stdout",
     "output_type": "stream",
     "text": [
      "Rank of B^2 is 3\n"
     ]
    }
   ],
   "source": [
    "print(\"Rank of B^2:\", np.linalg.matrix_rank(np.linalg.matrix_power(B, 2)))"
   ]
  },
  {
   "cell_type": "code",
   "execution_count": 15,
   "metadata": {},
   "outputs": [
    {
     "name": "stdout",
     "output_type": "stream",
     "text": [
      "3A - 4B:\n",
      "[[ -6   2  -5]\n",
      " [ 10  10  -7]\n",
      " [ -2 -15 -27]]\n"
     ]
    }
   ],
   "source": [
    "print(\"3A - 4B:\", 3*A - 4*B, sep = \"\\n\")"
   ]
  },
  {
   "cell_type": "code",
   "execution_count": 16,
   "metadata": {},
   "outputs": [
    {
     "name": "stdout",
     "output_type": "stream",
     "text": [
      "Main diagonal sum of A + B: 11\n"
     ]
    }
   ],
   "source": [
    "print(\"Main diagonal sum (trace) of A + B:\", np.trace(A + B))"
   ]
  },
  {
   "cell_type": "code",
   "execution_count": 20,
   "metadata": {},
   "outputs": [
    {
     "name": "stdout",
     "output_type": "stream",
     "text": [
      "Test for (A+B)^T = A^T + B^T: True\n",
      "\n"
     ]
    }
   ],
   "source": [
    "print(\"Test for (A+B)^T = A^T + B^T:\", (np.transpose(A+B) == np.transpose(A) + np.transpose(B)).all())"
   ]
  },
  {
   "cell_type": "code",
   "execution_count": 23,
   "metadata": {},
   "outputs": [
    {
     "name": "stdout",
     "output_type": "stream",
     "text": [
      "Test for AB = BA: False\n"
     ]
    }
   ],
   "source": [
    "print(\"Test for AB = BA:\", (A@B == B@A).all())"
   ]
  },
  {
   "cell_type": "code",
   "execution_count": 30,
   "metadata": {},
   "outputs": [
    {
     "name": "stdout",
     "output_type": "stream",
     "text": [
      "Test for (AB)^-1 = (B^-1)(A^-1): False\n"
     ]
    }
   ],
   "source": [
    "print(\"Test for (AB)^-1 = (B^-1)(A^-1):\", (np.linalg.inv(A@B) == np.linalg.inv(A) @ np.linalg.inv(B)).all())"
   ]
  },
  {
   "cell_type": "code",
   "execution_count": 29,
   "metadata": {},
   "outputs": [
    {
     "name": "stdout",
     "output_type": "stream",
     "text": [
      "Test for det(AB) = det(A) * det(B):  True\n"
     ]
    }
   ],
   "source": [
    "print(\"Test for det(AB) = det(A) * det(B): \", (np.linalg.det(A@B) == np.linalg.det(A) * np.linalg.det(B)).all())"
   ]
  },
  {
   "cell_type": "code",
   "execution_count": 50,
   "metadata": {},
   "outputs": [
    {
     "name": "stdout",
     "output_type": "stream",
     "text": [
      "b is: \n",
      "[[ 1]\n",
      " [-2]\n",
      " [-3]]\n",
      "\n",
      "Find x for Ax = Bb <=> x = A^-1(Bb):\n",
      "[[ 0.5       ]\n",
      " [-3.84615385]\n",
      " [ 1.69230769]]\n"
     ]
    }
   ],
   "source": [
    "b_transpose = np.array([1,-2,-3]).reshape(1,3)\n",
    "b = np.transpose(b_transpose)\n",
    "print(\"b is: \", b, sep=\"\\n\", end=\"\\n\\n\")\n",
    "print(\"Find x for Ax = Bb <=> x = A^-1(Bb):\", np.linalg.inv(A) @ B @ b, sep = \"\\n\")"
   ]
  },
  {
   "cell_type": "code",
   "execution_count": 56,
   "metadata": {},
   "outputs": [
    {
     "name": "stdout",
     "output_type": "stream",
     "text": [
      "Test for Ax = bB:\n",
      "Try b@B\n",
      "b and B don't have the correct sizes\n",
      "b shape (3, 1)\n",
      "B shape (3, 3)\n"
     ]
    }
   ],
   "source": [
    "print(\"Test for Ax = bB:\")\n",
    "try:\n",
    "    print(\"Try b@B\")\n",
    "    print(b@B)\n",
    "except ValueError:\n",
    "    print(\"b and B don't have the correct sizes\")\n",
    "    print(\"b shape\", b.shape)\n",
    "    print(\"B shape\", B.shape)"
   ]
  },
  {
   "cell_type": "code",
   "execution_count": 59,
   "metadata": {},
   "outputs": [
    {
     "name": "stdout",
     "output_type": "stream",
     "text": [
      "C value:\n",
      "[[-1 -4  5]\n",
      " [-2 -6 -3]\n",
      " [-4  0 -1]]\n"
     ]
    }
   ],
   "source": [
    "C = np.random.randint(-6, 6, [3,3])\n",
    "print(\"C value:\", C, sep=\"\\n\")"
   ]
  },
  {
   "cell_type": "code",
   "execution_count": 61,
   "metadata": {},
   "outputs": [
    {
     "name": "stdout",
     "output_type": "stream",
     "text": [
      "Test (AB)C = A(BC): True\n"
     ]
    }
   ],
   "source": [
    "print(\"Test (AB)C = A(BC):\", ((A@B)@C == A@(B@C)).all())"
   ]
  },
  {
   "cell_type": "code",
   "execution_count": null,
   "metadata": {},
   "outputs": [],
   "source": []
  }
 ],
 "metadata": {
  "kernelspec": {
   "display_name": "base",
   "language": "python",
   "name": "python3"
  },
  "language_info": {
   "codemirror_mode": {
    "name": "ipython",
    "version": 3
   },
   "file_extension": ".py",
   "mimetype": "text/x-python",
   "name": "python",
   "nbconvert_exporter": "python",
   "pygments_lexer": "ipython3",
   "version": "3.11.5"
  }
 },
 "nbformat": 4,
 "nbformat_minor": 2
}
