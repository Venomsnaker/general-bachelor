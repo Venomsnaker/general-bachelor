{
 "cells": [
  {
   "cell_type": "markdown",
   "id": "9ae044c1",
   "metadata": {},
   "source": [
    "# Đề Thực hành 2 Phương pháp toán cho Trí tuệ nhân tạo.\n",
    "## Khoa CNTT - trường ĐH KHTN TPHCM."
   ]
  },
  {
   "cell_type": "markdown",
   "id": "ec621c6a",
   "metadata": {},
   "source": [
    "## Bài 1. (3 điểm)\n",
    "Cho hai ma trận sau đây"
   ]
  },
  {
   "cell_type": "markdown",
   "id": "a0cec2e0",
   "metadata": {},
   "source": [
    "$$A=\\left( \\begin{matrix}\n",
    "   1 & 0 & 2 & a  \\\\\n",
    "   1 & 2 & 4 & b  \\\\\n",
    "   -1 & 2 & 0 & c  \\\\\n",
    "   3 & -1 & 3 & d  \\\\\n",
    "\\end{matrix} \\right), B=\\left( \\begin{matrix}\n",
    "   4 & 5 & 1 & -2  \\\\\n",
    "   0 & 1 & 2 & 1  \\\\\n",
    "   0 & -2 & -3 & 1  \\\\\n",
    "   a & b & c & d  \\\\\n",
    "\\end{matrix} \\right)$$\n",
    "trong đó $a,b,c,d$ là $4$ số cuối trong $MSSV$ (viết theo thứ tự từ trái sang phải). Khi làm bài, $SV$ chủ động thay các mã số đó vào đề bài trên."
   ]
  },
  {
   "cell_type": "markdown",
   "id": "4e90594a",
   "metadata": {},
   "source": [
    "Bằng cách dùng các thư viện có hỗ trợ sẵn của Python, hãy thực hiện các yêu cầu sau:\n",
    "* a) Tính $B+A$, $B{{A}^{T}}$, $2A-3B$.\n",
    "* b) Tính $\\det (A)$ , $\\det ({{B}^{T}}+2I)$, $rank(AB).$ \n",
    "* c) Tính norm của vector hàng $1$ của $A,$ tính norm của vector cột $3$ của $B,$ tính tổng các phần tử trên đường chéo của $A.$\n",
    "* d) Kiểm tra công thức ${{(AB)}^{T}}={{B}^{T}}{{A}^{T}}$ dựa trên hai ma trận đã cho.\n",
    "* e) Sinh ngẫu nhiên một ma trận $C$ có kích thước $4\\times 4$ với các phần tử là số nguyên trong miền từ $-9\\to 9$, từ đó in ra các phần tử nằm phía dưới đường chéo của $A+BC.$ \n",
    "* f) Tìm ma trận $C$ thỏa mãn $AC - C = B$. *Gợi ý:* $C = CI = IC$ với $I$ là ma trận đơn vị."
   ]
  },
  {
   "cell_type": "markdown",
   "id": "aa9af08d",
   "metadata": {},
   "source": [
    "**Câu này tương tự bài làm trước. Mỗi ý cho 0.5đ.**"
   ]
  },
  {
   "cell_type": "markdown",
   "id": "1ed06d90",
   "metadata": {},
   "source": [
    "### Bài 2. (2đ)\n",
    "\n",
    "Trong lĩnh vực xử lý ngôn ngữ tự nhiên $NLP$, với danh sách từ vựng $\\mathcal{L}$ độ dài $\\ell$, mỗi câu văn có thể được mô tả bởi 1 vector $v\\in\\mathbb{R}^{\\ell}$ mà thành phần thứ $i$ cho biết số lần mà từ $d_i \\in \\mathcal{L}$ xuất hiện trong câu, còn được gọi là tọa độ của câu văn trong $\\mathcal{L}$. Xét các câu văn sau đây:\n",
    "> * $D_1$: *tôi là An*.\n",
    "> * $D_2$: *tôi thích đi xem phim*.\n",
    "> * $D_3$: *An rất thích xem tôi du lịch*.\n",
    "> * $D_4$: *tôi rất rất thích đi du lịch, An là tên tôi*.\n",
    "\n",
    "Giả sử rằng $\\mathcal{L} =$ (*An, du, đi, là, lịch, phim, rất, tên, thích, tôi, xem*) với $|\\mathcal{L}| = 11$ thì chẳng hạn câu văn $D_0$ = *tôi rất thích An An* sẽ có tọa độ là $$d_0 = (2,0,0,0,0,0,1,0,1,1,0).$$\n",
    "- **a)** Viết toạ độ của các câu văn $D_1,D_2,D_3,D_4$ ở dạng vector trong không gian $11$ chiều ứng với từ vựng $\\mathcal{L}$.\n",
    "- **b)** Tính khoảng cách Euclid đôi một giữa các câu văn trên sử dụng thư viện *numpy.linalg*.\n",
    "- **c)** Ở trên ta dùng thư viện, vậy hãy cho biết công thức Toán học cụ thể để tính khoảng cách Euclid giữa hai vector bên dưới là gì:\n",
    "$$d = (x_1,x_2,...,x_{11}) \\text{ và } d' = (y_1,y_2,...,y_{11})?$$"
   ]
  },
  {
   "cell_type": "markdown",
   "id": "34c78923",
   "metadata": {},
   "source": [
    "**Câu a, b mỗi ý 0.75, câu c) cho 0.5đ. Nếu câu a) bị sai mà có điền được sơ sơ thì cho 0.5đ.**"
   ]
  },
  {
   "cell_type": "code",
   "execution_count": 2,
   "id": "b7cf074f",
   "metadata": {},
   "outputs": [
    {
     "name": "stdout",
     "output_type": "stream",
     "text": [
      "Khoảng cách giữa d1 & d2 là 2.45\n",
      "Khoảng cách giữa d1 & d3 là 2.45\n",
      "Khoảng cách giữa d1 & d4 là 3.16\n",
      "Khoảng cách giữa d2 & d3 là 2.45\n",
      "Khoảng cách giữa d2 & d4 là 3.46\n",
      "Khoảng cách giữa d3 & d4 là 2.45\n"
     ]
    }
   ],
   "source": [
    "#hãy giải câu a), b) bằng cách hoàn thành đoạn code sau đây (điền vào dấu ...)\n",
    "import numpy as np\n",
    "L = ['An', 'du', 'đi', 'là', 'lịch', 'phim' 'rất', 'tên', 'thích', 'tôi', 'xem']\n",
    "d1 = np.array([1, 0, 0, 1, 0, 0, 0, 0, 0, 1, 0])\n",
    "d2 = np.array([0, 0, 1, 0, 0, 1, 0, 0, 1, 1, 1])\n",
    "d3 = np.array([1, 1, 0, 0, 1, 0, 1, 0, 1, 1, 1])\n",
    "d4 = np.array([1, 1, 1, 1, 1, 0, 2, 1, 1, 2, 0])\n",
    "D = np.vstack((d1,d2,d3,d4))\n",
    "l = len(D)\n",
    "for i in range(l):\n",
    "    for j in range(i+1, l):\n",
    "        print('Khoảng cách giữa d{:d} & d{:d} là'.format(i+1,j+1), np.round(np.linalg.norm(D[i]-D[j]), 2))"
   ]
  },
  {
   "cell_type": "markdown",
   "id": "7f9633e4",
   "metadata": {},
   "source": [
    "Công thức tính khoảng cách của Euclid của hai vector d và d' là căn bậc hai tích vô hướng của d-d' và d-d'\n",
    ": $\\sqrt{<d-d', d-d'>} = \\sqrt{\\sum_{i=1}^{11}(x_i-y_i)^{2}}$"
   ]
  },
  {
   "cell_type": "markdown",
   "id": "743864c9",
   "metadata": {},
   "source": [
    "## Bài 3. (1.5 điểm) Trong hai chọn một.\n",
    "3.1) Kết quả học tập của một nhóm sinh viên ở môn **Phương pháp toán cho Trí tuệ nhân tạo** được cho trong bảng bên dưới. Sinh viên chỉ qua môn nếu điểm tổng kết không dưới $5.0$."
   ]
  },
  {
   "cell_type": "markdown",
   "id": "b2fe4308",
   "metadata": {},
   "source": [
    "|Sinh viên | BT cá nhân  | Báo cáo   | Giữa kỳ   | Cuối kỳ   |\n",
    "|----------|-------------|-----------|-----------|-----------|\n",
    "|  A       |     8       |    7      |    6      |    4      |\n",
    "|  B       |     0       |    7      |    5      |    6      |\n",
    "|  C       |     3       |    9      |    4      |    5      |\n",
    "|  D       |     7       |    8      |    3      |    5      |\n",
    "|  E       |     10      |    10     |    10     |    9      |\n",
    "|  F       |     6       |    0      |    6      |    5      |"
   ]
  },
  {
   "cell_type": "markdown",
   "id": "9a17d697",
   "metadata": {},
   "source": [
    "GV đang cân nhắc cho các điểm theo trọng số nào để có lợi cho các sinh viên nhất (ít người rớt nhất), có $3$ phương án:\n",
    "* $0.2, 0.2, 0.2, 0.4$.\n",
    "* $0.1, 0.1, 0.3, 0.5.$\n",
    "* $0.1, 0.2, 0.3, 0.4.$\n",
    "\n",
    "Hãy giúp giảng viên lựa chọn phương án thích hợp."
   ]
  },
  {
   "cell_type": "markdown",
   "id": "c502dfb9",
   "metadata": {},
   "source": [
    "**Bài này có nhiều cách giải, miễn sao đề cập đủ ma trận cũng như phương án chọn là được.**"
   ]
  },
  {
   "cell_type": "code",
   "execution_count": 25,
   "id": "e63c0a39",
   "metadata": {},
   "outputs": [],
   "source": [
    "student=np.array([[8,7,6,4],\n",
    "                 [0,7,5,6],\n",
    "                 [3,9,4,5],\n",
    "                 [7,8,3,5],\n",
    "                 [10,10,10,9],\n",
    "                 [6,0,6,5]])\n",
    "ts1=np.array([[0.2,0.2,0.2,0.4]]).reshape(4,-1)\n",
    "ts2=np.array([[0.1,0.1,0.3,0.5]]).reshape(4,-1)\n",
    "ts3=np.array([[0.1,0.2,0.3,0.4]]).reshape(4,-1)"
   ]
  },
  {
   "cell_type": "code",
   "execution_count": 23,
   "id": "c5036d73",
   "metadata": {},
   "outputs": [],
   "source": [
    "score1=student@ts1\n",
    "score2=student@ts2\n",
    "score3=student@ts3"
   ]
  },
  {
   "cell_type": "code",
   "execution_count": 24,
   "id": "30b1aa86",
   "metadata": {},
   "outputs": [
    {
     "name": "stdout",
     "output_type": "stream",
     "text": [
      "Số lượng sinh viên pass khi cho điểm theo ts1 là: 4\n",
      "Số lượng sinh viên pass khi cho điểm theo ts2 là: 3\n",
      "Số lượng sinh viên pass khi cho điểm theo ts3 là: 5\n"
     ]
    }
   ],
   "source": [
    "sv_pass1=(np.select([score1 >=5.0, score1 < 5.0],['p', 'f']) == \"p\").sum()\n",
    "sv_pass2=(np.select([score2 >=5.0, score2 < 5.0],['p', 'f']) == \"p\").sum()\n",
    "sv_pass3=(np.select([score3 >=5.0, score3 < 5.0],['p', 'f']) == \"p\").sum()\n",
    "print('Số lượng sinh viên pass khi cho điểm theo ts1 là:',sv_pass1)\n",
    "print('Số lượng sinh viên pass khi cho điểm theo ts2 là:',sv_pass2)\n",
    "print('Số lượng sinh viên pass khi cho điểm theo ts3 là:',sv_pass3)"
   ]
  },
  {
   "cell_type": "markdown",
   "id": "6a45b2aa",
   "metadata": {},
   "source": [
    "* Vậy giảng viên cho điểm theo trọng số thứ 3 sẽ có lợi cho sinh viên nhất."
   ]
  },
  {
   "cell_type": "markdown",
   "id": "4e105e1e",
   "metadata": {},
   "source": [
    "3.2) Cho bài toán sau, hãy bằng cách lập hệ phương trình thích hợp và giải bằng Python theo **ít nhất $2$ cách khác nhau**: <br>\n",
    "\n",
    "Trong đợt dịch cúm Covid-19, sinh viên của một trường Đại học có nhận được trợ cấp từ nhà trường, từ địa phương và từ hội cựu sinh viên. Khảo sát trong một lớp học có ba nhóm: đang ở quê, đang ở trọ tại TPHCM và đang ở KTX trường. Biết rằng mức tiền hỗ trợ tiền:\n",
    "* Của trường cho các nhóm trên lần lượt là: $200k, 600k, 400k$; \n",
    "* Của địa phương là: $500k, 500k, 500k$; \n",
    "* Của hội cựu sinh viên là: $0k, 700k, 300k.$\n",
    "\n",
    "Biết rằng tổng tiền mà sinh viên được từ nhà trường là $37$ triệu, từ địa phương là $50$ triệu và từ hội cựu sinh viên là $29$ triệu. Tính tổng sinh viên của lớp."
   ]
  },
  {
   "cell_type": "markdown",
   "id": "71621f77",
   "metadata": {},
   "source": [
    "Ta có HPT: $\\left\\{\\begin{matrix}\n",
    "200x &+600y  &+400z  &=37000 \\\\ \n",
    " 500x&  +500y&  +500z& =50000 \\\\ \n",
    " & 700y & +300z & =29000\n",
    "\\end{matrix}\\right.$"
   ]
  },
  {
   "cell_type": "markdown",
   "id": "11df208a",
   "metadata": {},
   "source": [
    "Cách 1: giải bằng công thức : $x=A^{-1}b$"
   ]
  },
  {
   "cell_type": "code",
   "execution_count": 14,
   "id": "1377c5f4",
   "metadata": {},
   "outputs": [
    {
     "data": {
      "text/plain": [
       "array([[50.],\n",
       "       [35.],\n",
       "       [15.]])"
      ]
     },
     "execution_count": 14,
     "metadata": {},
     "output_type": "execute_result"
    }
   ],
   "source": [
    "A=np.array([[200,600,400],\n",
    "            [500,500,500],\n",
    "            [0,700,300]])\n",
    "b=np.array([[37000,50000,29000]]).reshape(3,-1)\n",
    "x=linalg.inv(A)@b\n",
    "x"
   ]
  },
  {
   "cell_type": "code",
   "execution_count": 15,
   "id": "0f258352",
   "metadata": {},
   "outputs": [
    {
     "name": "stdout",
     "output_type": "stream",
     "text": [
      "Tổng số sinh viên của lớp là 100.0\n"
     ]
    }
   ],
   "source": [
    "print('Tổng số sinh viên của lớp là',round(x.sum(),3))"
   ]
  },
  {
   "cell_type": "markdown",
   "id": "a6551ed0",
   "metadata": {},
   "source": [
    "Cách 2: giải bằng hàm solve của scipy "
   ]
  },
  {
   "cell_type": "code",
   "execution_count": 16,
   "id": "2b8b236f",
   "metadata": {},
   "outputs": [
    {
     "data": {
      "text/plain": [
       "array([[50.],\n",
       "       [35.],\n",
       "       [15.]])"
      ]
     },
     "execution_count": 16,
     "metadata": {},
     "output_type": "execute_result"
    }
   ],
   "source": [
    "x= linalg.solve(A,b)\n",
    "x"
   ]
  },
  {
   "cell_type": "code",
   "execution_count": 17,
   "id": "32833609",
   "metadata": {},
   "outputs": [
    {
     "name": "stdout",
     "output_type": "stream",
     "text": [
      "Tổng số sinh viên của lớp là 100.0\n"
     ]
    }
   ],
   "source": [
    "print('Tổng số sinh viên của lớp là',round(x.sum(),3))"
   ]
  },
  {
   "cell_type": "markdown",
   "id": "b2bcee04",
   "metadata": {},
   "source": [
    "Cách 3: giải bằng thư viện Sympy"
   ]
  },
  {
   "cell_type": "code",
   "execution_count": 18,
   "id": "d280129f",
   "metadata": {},
   "outputs": [
    {
     "data": {
      "text/plain": [
       "{x: 50, y: 35, z: 15}"
      ]
     },
     "execution_count": 18,
     "metadata": {},
     "output_type": "execute_result"
    }
   ],
   "source": [
    "x=Symbol('x')\n",
    "y=Symbol('y')\n",
    "z=Symbol('z')\n",
    "kq=solve([200*x+600*y+400*z-37000, 500*x+500*y+500*z-50000, 0*x+700*y+300*z-29000],[x,y,z])\n",
    "kq"
   ]
  },
  {
   "cell_type": "code",
   "execution_count": 19,
   "id": "5427a05b",
   "metadata": {},
   "outputs": [
    {
     "name": "stdout",
     "output_type": "stream",
     "text": [
      "Tổng số sinh viên của lớp là: 100\n"
     ]
    }
   ],
   "source": [
    "print('Tổng số sinh viên của lớp là:',kq[x]+kq[y]+kq[z])"
   ]
  },
  {
   "cell_type": "markdown",
   "id": "52f80afd",
   "metadata": {},
   "source": [
    "## Bài 4. (2 điểm)\n",
    "Một thí nghiệm xét mối liên hệ giữa độ giảm trọng lượng của hợp chất ($y$, tính bằng gam) và khoảng thời gian mà hợp chất tiếp xúc với không khí ($x$, tính bằng năm), trong đó số âm có thể hiểu là giai đoạn xử lý nguyên liệu, trước khi điều chế ra hợp chất. Ta có bảng dữ liệu như sau:"
   ]
  },
  {
   "cell_type": "markdown",
   "id": "700d63d7",
   "metadata": {},
   "source": [
    "| $x$    | $-2$ | $0$   | $1$  | $2$  | $4$   |\n",
    "|--------|------|-------|------|------|-------|\n",
    "| $y$    | $-1$ | $1.5$ | $3.1$| $6.3$| $11.1$| "
   ]
  },
  {
   "cell_type": "markdown",
   "id": "143fd75c",
   "metadata": {},
   "source": [
    "- **a)** Giả sử $x,y$ thỏa mãn mô hình $y=a+bx+c \\ln(x^2+1).$ Hãy sử dụng phương pháp bình phương cực tiểu, ước lượng các tham số $a,b,c.$ <br>\n",
    "- **b)** Vẽ đồ thị cho dữ liệu. Sử dụng kết quả trên để dự đoán $y$ khi $x = 6.5$. <br>\n",
    "- **c)** Hỏi có nên dùng mô hình $y=a+bx+c \\ln(x)$ hoặc $y = a+bx+\\frac{c}{x}$ để xấp xỉ dữ liệu trên không? Vì sao?"
   ]
  },
  {
   "cell_type": "markdown",
   "id": "698d865b",
   "metadata": {},
   "source": [
    "**Thang điểm: 1đ + 0.5 + 0.5**"
   ]
  },
  {
   "cell_type": "code",
   "execution_count": 3,
   "id": "00f16e18",
   "metadata": {},
   "outputs": [],
   "source": [
    "from scipy import linalg"
   ]
  },
  {
   "cell_type": "code",
   "execution_count": 28,
   "id": "f10d4a30",
   "metadata": {},
   "outputs": [
    {
     "data": {
      "image/png": "[encoded data removed]",
      "text/plain": [
       "<Figure size 576x396 with 1 Axes>"
      ]
     },
     "metadata": {},
     "output_type": "display_data"
    }
   ],
   "source": [
    "# Gợi ý code mẫu\n",
    "A = np.array([[1,-2,np.log((-2)**2+1)],[1,0,np.log(0**2+1)],[1,1,np.log(1**2+1)],[1,2,np.log(2**2+1)],[1,4,np.log(4**2+1)]])\n",
    "b = np.array([-1,1.5,3.1,6.3,11.1])\n",
    "#dùng công thức tính ma trận giả nghịch đảo:\n",
    "AT_A = A.T@A # A^T.A\n",
    "AT_A_inv=linalg.inv(AT_A) # (A^T.A)^-1\n",
    "Y= AT_A_inv@A.T # Ma  trận giả nghịch đảo của A là : (A^T@A)^-1@A^T\n",
    "X= Y@b\n",
    "X\n",
    "#code để vẽ đồ thị\n",
    "import matplotlib.pyplot as plt\n",
    "plt.style.use('seaborn')\n",
    "x=[-2,0,1,2,4]\n",
    "y=[-1,1.5,3.1,6.3,11.1]\n",
    "fig,ax = plt.subplots()\n",
    "ax.axhline(y=0,color='black',alpha=0.5)\n",
    "ax.axvline(x=0,color='black',alpha=0.5)\n",
    "a=np.linspace(-10,10,100)\n",
    "f=X[0]+X[1]*a+X[2]*np.log(a**2+1)# y=ax+b\n",
    "ax.plot(a,f,color='g',linewidth=3,label='Fitted line',alpha=0.85)\n",
    "ax.plot(x,y,'o',c='red',lw=3,alpha=0.85,label='Data dot')\n",
    "ax.set_xlim(-5,8)\n",
    "ax.set_ylim(-3,18)\n",
    "ax.set_title('$y=a+bx+c \\ln(x^2+1).$')\n",
    "ax.legend(loc='upper left');"
   ]
  },
  {
   "cell_type": "markdown",
   "id": "dfab6380",
   "metadata": {},
   "source": [
    "b) Dự đoán y khi x =6.5"
   ]
  },
  {
   "cell_type": "code",
   "execution_count": 29,
   "id": "2cbf9182",
   "metadata": {},
   "outputs": [
    {
     "data": {
      "text/plain": [
       "16.393051683115566"
      ]
     },
     "execution_count": 29,
     "metadata": {},
     "output_type": "execute_result"
    }
   ],
   "source": [
    "y_pred=X[0]+X[1]*6.5+X[2]*np.log(6.5**2+1)\n",
    "y_pred"
   ]
  },
  {
   "cell_type": "code",
   "execution_count": 30,
   "id": "1d8e6d11",
   "metadata": {},
   "outputs": [
    {
     "data": {
      "image/png": "[encoded data removed]",
      "text/plain": [
       "<Figure size 576x396 with 1 Axes>"
      ]
     },
     "execution_count": 30,
     "metadata": {},
     "output_type": "execute_result"
    }
   ],
   "source": [
    "ax.plot([6.5],[y_pred],'o',c='blue',lw=3,alpha=0.85,label='Predict dot');\n",
    "ax.legend(loc='upper left');\n",
    "fig"
   ]
  },
  {
   "cell_type": "markdown",
   "id": "61384274",
   "metadata": {},
   "source": [
    "Khi $ x = 6.5$ thì $y\\approx  16.39$:"
   ]
  },
  {
   "cell_type": "markdown",
   "id": "854c3cfb",
   "metadata": {},
   "source": [
    " **c)** Hỏi có nên dùng mô hình $y=a+bx+c \\ln(x)$ hoặc $y = a+bx+\\frac{c}{x}$ để xấp xỉ dữ liệu trên không? Vì sao?"
   ]
  },
  {
   "cell_type": "markdown",
   "id": "ead577ae",
   "metadata": {},
   "source": [
    "Không nên dùng mô hình $y=a+bx+c \\ln(x)$ hoặc $y = a+bx+\\frac{c}{x}$ để xấp xỉ dữ liệu vì hàm $log(x)$ nếu x âm sẽ không xác định, tương tự với $\\frac{c}{x}$ nếu $x = 0$ sẽ không xác định "
   ]
  },
  {
   "cell_type": "markdown",
   "id": "e68ef7a4",
   "metadata": {},
   "source": [
    "## Bài 5. (2 điểm)\n",
    "Cho ma trận: $M=\\left( \\begin{matrix}\n",
    "   2 & a & -2  \\\\\n",
    "   0 & 3 & 0  \\\\\n",
    "   0 & 0 & 3  \\\\\n",
    "\\end{matrix} \\right)$ trong đó $a$ là tham số thực.\n",
    "* a) Cho $a=1,$ hãy chéo hóa ma trận này để thu được ma trận $D,P$ trong đó $D = P^{-1}AP$ và $D$ là ma trận đường chéo bằng cách dùng thư viện của Python (diagonalize) và kiểm chứng lại bằng việc tính toán cụ thể từng bước để tìm đa thức đặc trưng và các giá trị riêng của $M$. Từ đó hãy nêu cách tính ${{M}^{99}}$.\n",
    "* b) Ma trận chéo hóa $D$ của $M$ luôn không đổi với mọi giá trị $a$ tùy ý, hãy kiểm chứng với vài giá trị cụ thể của $a$ và giải thích lý do.\n"
   ]
  },
  {
   "cell_type": "markdown",
   "id": "8c12d93e",
   "metadata": {},
   "source": [
    "**Câu a) và b) mỗi ý 1đ.**"
   ]
  },
  {
   "cell_type": "markdown",
   "id": "5b523935",
   "metadata": {},
   "source": [
    "Câu a) Cho $a=1,$ hãy chéo hóa ma trận này để thu được ma trận $D$ bằng cách dùng thư viện của Python và kiểm chứng lại bằng việc tính toán từng bước để tìm đa thức đặc trưng và các giá trị riêng của $M$. Từ đó hãy nêu cách tính ${{M}^{99}}$."
   ]
  },
  {
   "cell_type": "code",
   "execution_count": 5,
   "id": "56fb33b8",
   "metadata": {},
   "outputs": [],
   "source": [
    "import numpy as np\n",
    "from scipy import linalg\n",
    "from sympy import *"
   ]
  },
  {
   "cell_type": "code",
   "execution_count": 6,
   "id": "9c0fb515",
   "metadata": {},
   "outputs": [
    {
     "data": {
      "text/latex": [
       "$\\displaystyle \\left[\\begin{matrix}2 & 0 & 0\\\\0 & 3 & 0\\\\0 & 0 & 3\\end{matrix}\\right]$"
      ],
      "text/plain": [
       "Matrix([\n",
       "[2, 0, 0],\n",
       "[0, 3, 0],\n",
       "[0, 0, 3]])"
      ]
     },
     "execution_count": 6,
     "metadata": {},
     "output_type": "execute_result"
    }
   ],
   "source": [
    "M= Matrix([[2,1,-2],\n",
    "           [0,3,0],\n",
    "           [0,0,3]])\n",
    "I = np.identity(3)\n",
    "P,D = M.diagonalize()\n",
    "D"
   ]
  },
  {
   "cell_type": "markdown",
   "id": "f38cda21",
   "metadata": {},
   "source": [
    "Tìm phương trình đặc trưng và trị riêng"
   ]
  },
  {
   "cell_type": "code",
   "execution_count": 7,
   "id": "71ddbc2b",
   "metadata": {},
   "outputs": [
    {
     "data": {
      "text/latex": [
       "$\\displaystyle - 1.0 x^{3} + 8.0 x^{2} - 21.0 x + 18$"
      ],
      "text/plain": [
       "-1.0*x**3 + 8.0*x**2 - 21.0*x + 18"
      ]
     },
     "execution_count": 7,
     "metadata": {},
     "output_type": "execute_result"
    }
   ],
   "source": [
    "x=Symbol('x')\n",
    "det(M-x*I)"
   ]
  },
  {
   "cell_type": "markdown",
   "id": "49a306b0",
   "metadata": {},
   "source": [
    "Vậy phương trình đặc trưng là:$\\displaystyle - 1.0 x^{3} + 8.0 x^{2} - 21.0 x + 18$"
   ]
  },
  {
   "cell_type": "code",
   "execution_count": 8,
   "id": "8c9d09d3",
   "metadata": {},
   "outputs": [
    {
     "data": {
      "text/plain": [
       "[(2.00000000000000,), (3.00000000000000,)]"
      ]
     },
     "execution_count": 8,
     "metadata": {},
     "output_type": "execute_result"
    }
   ],
   "source": [
    "f=solve([det(M-x*I)],[x])\n",
    "f"
   ]
  },
  {
   "cell_type": "markdown",
   "id": "22db70ac",
   "metadata": {},
   "source": [
    "Vậy ta có 2 trị riêng là $$\\lambda_1 =2, \\lambda_2=3$$"
   ]
  },
  {
   "cell_type": "markdown",
   "id": "4cb37791",
   "metadata": {},
   "source": [
    "Để tính $M^{99}$: <BR>\n",
    "Ta lấy: $$M=PDP^{-1}\\rightarrow M^{99}=PD^{99}P^{-1}$$ <br>"
   ]
  },
  {
   "cell_type": "markdown",
   "id": "e2a68aaa",
   "metadata": {},
   "source": [
    "Câu b) Ma trận chéo hóa $D$ của $M$ luôn không đổi với mọi giá trị $a$ tùy ý, hãy kiểm chứng với vài giá trị cụ thể của $a$ và giải thích lý do."
   ]
  },
  {
   "cell_type": "code",
   "execution_count": 10,
   "id": "a5014e00",
   "metadata": {},
   "outputs": [],
   "source": [
    "import random"
   ]
  },
  {
   "cell_type": "code",
   "execution_count": 11,
   "id": "49aea157",
   "metadata": {},
   "outputs": [
    {
     "name": "stdout",
     "output_type": "stream",
     "text": [
      "a = 0\n"
     ]
    },
    {
     "data": {
      "text/latex": [
       "$\\displaystyle \\left[\\begin{matrix}2 & 0 & 0\\\\0 & 3 & 0\\\\0 & 0 & 3\\end{matrix}\\right]$"
      ],
      "text/plain": [
       "Matrix([\n",
       "[2, 0, 0],\n",
       "[0, 3, 0],\n",
       "[0, 0, 3]])"
      ]
     },
     "execution_count": 11,
     "metadata": {},
     "output_type": "execute_result"
    }
   ],
   "source": [
    "a=random.randint(0,9)\n",
    "print('a =',a)\n",
    "N= Matrix([[2,a,-2],\n",
    "           [0,3,0],\n",
    "           [0,0,3]])\n",
    "P,D=N.diagonalize()\n",
    "D"
   ]
  },
  {
   "cell_type": "markdown",
   "id": "af5a127a",
   "metadata": {},
   "source": [
    "Vì M là ma trận tam giác trên nên khi chéo hóa D sẽ bằng các phần tử trên đường chéo chính."
   ]
  }
 ],
 "metadata": {
  "kernelspec": {
   "display_name": "Python 3 (ipykernel)",
   "language": "python",
   "name": "python3"
  },
  "language_info": {
   "codemirror_mode": {
    "name": "ipython",
    "version": 3
   },
   "file_extension": ".py",
   "mimetype": "text/x-python",
   "name": "python",
   "nbconvert_exporter": "python",
   "pygments_lexer": "ipython3",
   "version": "3.11.5"
  }
 },
 "nbformat": 4,
 "nbformat_minor": 5
}
