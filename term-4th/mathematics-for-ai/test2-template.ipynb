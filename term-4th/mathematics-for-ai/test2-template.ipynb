{
 "cells": [
  {
   "cell_type": "markdown",
   "id": "9ae044c1",
   "metadata": {},
   "source": [
    "# Phương pháp toán cho Trí tuệ nhân tạo. \n",
    "\n",
    "## Đề Thực hành 2. Khoa CNTT - ĐH KHTN TPHCM 2024."
   ]
  },
  {
   "cell_type": "markdown",
   "id": "8d248e75",
   "metadata": {},
   "source": [
    "### Bài 1. (3 điểm) $-$ các thao tác cơ bản trên ma trận\n",
    "\n",
    "Cho hai ma trận vuông $3 \\times 3$ sau đây:\n",
    "$$A=\\left( \\begin{matrix}\n",
    "   2 & 2 & 1  \\\\\n",
    "   2 & 6 & 3  \\\\\n",
    "   2 & 3 & -5  \\\\\n",
    "\\end{matrix} \\right) \\text{ và } B=\\left( \\begin{matrix}\n",
    "   3 & 1 & 2  \\\\\n",
    "   -1 & 2 & 4  \\\\\n",
    "   2 & 6 & 3  \\\\\n",
    "\\end{matrix} \\right).$$\n",
    "\n",
    "Bằng các dùng các thư viện có hỗ trợ sẵn của Python, hãy thực hiện các yêu cầu sau:"
   ]
  },
  {
   "cell_type": "markdown",
   "id": "14f811c2",
   "metadata": {},
   "source": [
    "a) Tính $\\text{rank}(B^2)$, $3A-4B$ và $\\text{trace}(A+B).$\n",
    "\n",
    "b) Hỏi trong các đẳng thức sau có bao nhiêu đẳng thức đúng, hãy kiểm chứng bằng code: $$(A+B)^T = A^T+B^T, \\, AB=BA, \\,(AB)^{-1} = B^{-1}A^{-1}, \\, \\det(AB) = \\det(A) \\cdot \\det(B).$$\n",
    "\n",
    "c) Tìm vector $\\textbf{x}$ thỏa mãn $A\\textbf{x} = B \\textbf{b}$ với $\\textbf{x}^T = (x_1,x_2,x_3)$ và $\\textbf{b}^T = (1,-2,-3)?$ Hỏi có tồn tại vector $\\textbf{x}$ để cho $A\\textbf{x} = \\textbf{b}B$ hay không? Vì sao?\n",
    "\n",
    "d) Sinh ngẫu nhiên một ma trận $C$ có kích thước $3\\times 3$ với các phần tử là số nguyên trong miền từ $-6\\to 6$, từ đó kiểm chứng tính chất kết hợp của phép nhân trên các ma trận $A,B,C$ đã cho: $(AB)C = A(BC)$.\n",
    "\n",
    "e) Hỏi có tồn tại hay không ma trận $D$ kích thước $3 \\times 3$ sao cho $B = D^2$? Vì sao?"
   ]
  },
  {
   "cell_type": "code",
   "execution_count": null,
   "id": "94a7d3eb",
   "metadata": {},
   "outputs": [],
   "source": [
    "#CODE HERE (mỗi câu hỏi làm trên một cell riêng)"
   ]
  },
  {
   "cell_type": "markdown",
   "id": "272961ba",
   "metadata": {},
   "source": [
    "### Bài 2. (2 điểm) $-$ giải hệ phương trình\n",
    "Để mở rộng sản suất, một công ty đã vay $800$ triệu đồng từ ba ngân hàng $D, E$ và $F$, với lãi suất cho vay theo năm lần lượt là $6\\%, 8\\%$ và $9\\%$. Biết rằng tổng số tiền lãi năm đầu tiên công ty phải trả cho ba ngân hàng là $60$ triệu đồng và số tiền lãi công ty trả cho hai ngân hàng $D$ và $F$ là bằng nhau."
   ]
  },
  {
   "cell_type": "markdown",
   "id": "0ebe0b93",
   "metadata": {},
   "source": [
    "a) Gọi $x_1,x_2,x_3$ là số tiền mà công ty đã vay từ 3 ngân hàng $D,E,F$ và đặt $X=\\begin{bmatrix} x_1 & x_2 & x_3 \\end{bmatrix}^T$. Mô hình hoá bài toán trên dưới dạng hệ phương trình tuyến tính $AX=b$, bằng cách tìm ma trận $A$ và vector $b$.\n",
    "\n",
    "b) Tính số tiền mà công ty đã vay từ $3$ ngân hàng bằng ít nhất *hai cách*."
   ]
  },
  {
   "cell_type": "code",
   "execution_count": null,
   "id": "5b533bb0",
   "metadata": {},
   "outputs": [],
   "source": [
    "#CODE HERE (mỗi câu hỏi làm trên một cell riêng)"
   ]
  },
  {
   "cell_type": "markdown",
   "id": "29d8c044",
   "metadata": {},
   "source": [
    "### Bài 3. (2 điểm) phân rã LU\n",
    "Cho ma trận vuông $4 \\times 4$ sau đây:\n",
    "$$A=\\left( \\begin{matrix}\n",
    "   3 & 2 & 5 & 9  \\\\\n",
    "   1 & 7 & 5 & 7  \\\\\n",
    "   5 & 10 & 5 & 3 \\\\\n",
    "   6 & 9 & 7 & 2\n",
    "\\end{matrix} \\right).$$\n",
    "\n",
    "a) Hãy phân tích ma trận $A$ thành các thành phần $P, L, U$ (bằng thư viện thích hợp) và in ra kết quả.\n",
    "\n",
    "b) Tái tạo (phục hồi) ma trận $A$ từ các thành phần $P, L, U.$\n",
    "\n",
    "c) Hỏi phân rã LU có những ứng dụng thực tế nào?"
   ]
  },
  {
   "cell_type": "code",
   "execution_count": null,
   "id": "2cc93757",
   "metadata": {},
   "outputs": [],
   "source": [
    "#CODE HERE (mỗi câu hỏi làm trên một cell riêng)"
   ]
  },
  {
   "cell_type": "markdown",
   "id": "6ad5751b",
   "metadata": {},
   "source": [
    "### Bài 4. (3 điểm) hồi quy tuyến tính, phi tuyến\n",
    "\n",
    "Một con thỏ được tiêm một loại virus, và $x$ giờ sau khi tiêm thì thân nhiệt của thỏ đo được là $y$ (độ $F$). Dữ liệu thu được đưa ra trong bảng sau:"
   ]
  },
  {
   "cell_type": "markdown",
   "id": "9baa3ff1",
   "metadata": {},
   "source": [
    "| $x$ (giờ)    |  $24$   |  $32$   | $45$   |  $56$  |\n",
    "|--------------|---------|---------|--------|--------|\n",
    "| $y$ (độ F)   | $102.8$ | $104.5$ | $106.5$| $107.5$|"
   ]
  },
  {
   "cell_type": "markdown",
   "id": "675cc701",
   "metadata": {},
   "source": [
    "a) Dùng phương pháp bình phương nhỏ nhất xác định các tham số $a,b$ của mỗi mô hình sau:\n",
    "\n",
    "* i. Mô hình tuyến tính: $y=a+bx.$\n",
    "    \n",
    "* ii. Mô hình logarit: $y=a+b\\ln x.$\n",
    "    \n",
    "b) Tính chuẩn phần dư của mỗi mô hình, từ đó cho biết mô hình nào phù hợp hơn với dữ liệu đã cho. Với mô hình đó, hãy ước tính nhiệt độ của thỏ sau khi tiêm $40$ giờ.\n"
   ]
  },
  {
   "cell_type": "code",
   "execution_count": null,
   "id": "9c619cde",
   "metadata": {},
   "outputs": [],
   "source": [
    "# Gợi ý code mẫu\n",
    "A = np.array([[...],[...],[...],[...],[...]])\n",
    "b = np.array([...])\n",
    "#dùng công thức tính ma trận giả nghịch đảo:\n",
    "...\n",
    "...\n",
    "...\n",
    "#code để vẽ đồ thị\n",
    "from matplotlib import pyplot as plt\n",
    "plt.plot(..., marker=\".\", color=\"red\")\n",
    "... #plot các điểm khác tương tự\n",
    "x = ...\n",
    "y = ...\n",
    "plt.plot(x,y)\n",
    "plt.show()"
   ]
  }
 ],
 "metadata": {
  "kernelspec": {
   "display_name": "Python 3",
   "language": "python",
   "name": "python3"
  },
  "language_info": {
   "codemirror_mode": {
    "name": "ipython",
    "version": 3
   },
   "file_extension": ".py",
   "mimetype": "text/x-python",
   "name": "python",
   "nbconvert_exporter": "python",
   "pygments_lexer": "ipython3",
   "version": "3.8.8"
  }
 },
 "nbformat": 4,
 "nbformat_minor": 5
}
